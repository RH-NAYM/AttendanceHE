{
 "cells": [
  {
   "cell_type": "code",
   "execution_count": 9,
   "id": "02b66c63",
   "metadata": {},
   "outputs": [],
   "source": [
    "# # encrypt_dict.py\n",
    "# from cryptography.fernet import Fernet\n",
    "# import json\n",
    "\n",
    "# # Generate a key (keep this safe for decryption)\n",
    "# key = Fernet.generate_key()\n",
    "# cipher = Fernet(key)\n",
    "\n",
    "# # Sample dictionary to encrypt\n",
    "# data = {}\n",
    "\n",
    "# # Convert dictionary to JSON string and encrypt\n",
    "# json_data = json.dumps(data)\n",
    "# encrypted_data = cipher.encrypt(json_data.encode())\n",
    "\n",
    "# # Save encrypted data to file\n",
    "# with open(\"encrypted_data.bin\", \"wb\") as f:\n",
    "#     f.write(encrypted_data)\n",
    "\n",
    "# # Save key to file (keep this secure!)\n",
    "# with open(\"secret.key\", \"wb\") as key_file:\n",
    "#     key_file.write(key)\n",
    "\n",
    "# print(\"Encryption complete! Files created:\")\n",
    "# print(\"- encrypted_data.bin (encrypted data)\")\n",
    "# print(\"- secret.key (encryption key)\")"
   ]
  },
  {
   "cell_type": "code",
   "execution_count": 10,
   "id": "30c3041c",
   "metadata": {},
   "outputs": [
    {
     "name": "stdout",
     "output_type": "stream",
     "text": [
      "Successfully decrypted and created service_account.json\n"
     ]
    }
   ],
   "source": [
    "# decrypt_dict.py\n",
    "from cryptography.fernet import Fernet\n",
    "import json\n",
    "\n",
    "def decrypt_to_json():\n",
    "    # Load the encryption key\n",
    "    try:\n",
    "        with open(\"secret.key\", \"rb\") as key_file:\n",
    "            key = key_file.read()\n",
    "    except FileNotFoundError:\n",
    "        print(\"Error: secret.key file not found!\")\n",
    "        return False\n",
    "    \n",
    "    cipher = Fernet(key)\n",
    "\n",
    "    # Load and decrypt the data\n",
    "    try:\n",
    "        with open(\"encrypted_data.bin\", \"rb\") as f:\n",
    "            encrypted_data = f.read()\n",
    "    except FileNotFoundError:\n",
    "        print(\"Error: encrypted_data.bin file not found!\")\n",
    "        return False\n",
    "\n",
    "    try:\n",
    "        decrypted_data = cipher.decrypt(encrypted_data)\n",
    "        original_dict = json.loads(decrypted_data.decode())\n",
    "    except Exception as e:\n",
    "        print(f\"Decryption error: {e}\")\n",
    "        return False\n",
    "\n",
    "    # Save decrypted data to service_account.json\n",
    "    try:\n",
    "        with open(\"service_account.json\", \"w\") as json_file:\n",
    "            json.dump(original_dict, json_file, indent=2)\n",
    "        print(\"Successfully decrypted and created service_account.json\")\n",
    "        return True\n",
    "    except Exception as e:\n",
    "        print(f\"Error writing JSON file: {e}\")\n",
    "        return False\n",
    "\n",
    "if __name__ == \"__main__\":\n",
    "    decrypt_to_json()"
   ]
  },
  {
   "cell_type": "code",
   "execution_count": null,
   "id": "888bc519",
   "metadata": {},
   "outputs": [],
   "source": []
  },
  {
   "cell_type": "code",
   "execution_count": 11,
   "id": "f1e70b49",
   "metadata": {},
   "outputs": [],
   "source": [
    "!export OAUTH_KEY=\"PeKU3K-rDOo8EeLrMxR3GjCDQgQCLiFP9fbktkHITgE=\""
   ]
  },
  {
   "cell_type": "code",
   "execution_count": null,
   "id": "2497eb6c",
   "metadata": {},
   "outputs": [],
   "source": []
  },
  {
   "cell_type": "code",
   "execution_count": null,
   "id": "ba141ea6",
   "metadata": {},
   "outputs": [],
   "source": []
  }
 ],
 "metadata": {
  "kernelspec": {
   "display_name": "custom",
   "language": "python",
   "name": "python3"
  },
  "language_info": {
   "codemirror_mode": {
    "name": "ipython",
    "version": 3
   },
   "file_extension": ".py",
   "mimetype": "text/x-python",
   "name": "python",
   "nbconvert_exporter": "python",
   "pygments_lexer": "ipython3",
   "version": "3.12.11"
  }
 },
 "nbformat": 4,
 "nbformat_minor": 5
}
